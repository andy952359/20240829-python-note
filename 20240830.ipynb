{
  "nbformat": 4,
  "nbformat_minor": 0,
  "metadata": {
    "colab": {
      "provenance": [],
      "toc_visible": true,
      "authorship_tag": "ABX9TyNxRAu2aW8o8EWtgsc3w8oB",
      "include_colab_link": true
    },
    "kernelspec": {
      "name": "python3",
      "display_name": "Python 3"
    },
    "language_info": {
      "name": "python"
    }
  },
  "cells": [
    {
      "cell_type": "markdown",
      "metadata": {
        "id": "view-in-github",
        "colab_type": "text"
      },
      "source": [
        "<a href=\"https://colab.research.google.com/github/andy952359/20240829-python-note/blob/main/20240830.ipynb\" target=\"_parent\"><img src=\"https://colab.research.google.com/assets/colab-badge.svg\" alt=\"Open In Colab\"/></a>"
      ]
    },
    {
      "cell_type": "markdown",
      "source": [
        "# 20240830"
      ],
      "metadata": {
        "id": "lVUN9Wl84Dmc"
      }
    },
    {
      "cell_type": "markdown",
      "source": [
        "## 複習基本資料型態及容器型別\n",
        "\n",
        "* int, float, bool, str\n",
        "* list, tuple, dict, set"
      ],
      "metadata": {
        "id": "dA9M4mg84Jws"
      }
    },
    {
      "cell_type": "markdown",
      "source": [
        "### 字串的加法及乘法"
      ],
      "metadata": {
        "id": "cgDzd3E_4-gj"
      }
    },
    {
      "cell_type": "code",
      "source": [
        "'abc' + '123'"
      ],
      "metadata": {
        "id": "Wm288cT25Egs",
        "colab": {
          "base_uri": "https://localhost:8080/",
          "height": 35
        },
        "outputId": "bbf24d47-476b-4245-a9ad-7cae96e68c89"
      },
      "execution_count": 1,
      "outputs": [
        {
          "output_type": "execute_result",
          "data": {
            "text/plain": [
              "'abc123'"
            ],
            "application/vnd.google.colaboratory.intrinsic+json": {
              "type": "string"
            }
          },
          "metadata": {},
          "execution_count": 1
        }
      ]
    },
    {
      "cell_type": "code",
      "source": [
        "'abc' * 3"
      ],
      "metadata": {
        "id": "Mz1LIDmr4DYl",
        "colab": {
          "base_uri": "https://localhost:8080/",
          "height": 35
        },
        "outputId": "572be7f0-91e4-495f-eec0-25f9ae94b3b6"
      },
      "execution_count": 2,
      "outputs": [
        {
          "output_type": "execute_result",
          "data": {
            "text/plain": [
              "'abcabcabc'"
            ],
            "application/vnd.google.colaboratory.intrinsic+json": {
              "type": "string"
            }
          },
          "metadata": {},
          "execution_count": 2
        }
      ]
    },
    {
      "cell_type": "markdown",
      "source": [
        "### 總和練習01"
      ],
      "metadata": {
        "id": "pwEPwcGB6nMk"
      }
    },
    {
      "cell_type": "code",
      "execution_count": 4,
      "metadata": {
        "id": "cnrL6qW52g-I",
        "colab": {
          "base_uri": "https://localhost:8080/"
        },
        "outputId": "35253b6e-2458-4c98-bc89-9ea2e5b9e635"
      },
      "outputs": [
        {
          "output_type": "stream",
          "name": "stdout",
          "text": [
            "1\n",
            "3\n",
            "5\n",
            "7\n",
            "9\n"
          ]
        }
      ],
      "source": [
        "for i in range(5):\n",
        "  print(2*i+1)"
      ]
    },
    {
      "cell_type": "code",
      "source": [
        "for i in range(5):\n",
        "  print((2*i+1)*'*')"
      ],
      "metadata": {
        "colab": {
          "base_uri": "https://localhost:8080/"
        },
        "id": "pRMSzlF664wM",
        "outputId": "f2506403-ba58-4c1b-eb50-7711b0054f51"
      },
      "execution_count": 5,
      "outputs": [
        {
          "output_type": "stream",
          "name": "stdout",
          "text": [
            "*\n",
            "***\n",
            "*****\n",
            "*******\n",
            "*********\n"
          ]
        }
      ]
    },
    {
      "cell_type": "code",
      "source": [
        "for i in range(5):\n",
        "  print(\" \"*(4-i)+(2*i+1)*'*')"
      ],
      "metadata": {
        "colab": {
          "base_uri": "https://localhost:8080/"
        },
        "id": "E_HJw2mM7CMs",
        "outputId": "ac83a9c4-a7f1-426c-eb98-2a1e7cea9a9c"
      },
      "execution_count": 12,
      "outputs": [
        {
          "output_type": "stream",
          "name": "stdout",
          "text": [
            "    *\n",
            "   ***\n",
            "  *****\n",
            " *******\n",
            "*********\n"
          ]
        }
      ]
    },
    {
      "cell_type": "markdown",
      "source": [
        "### 綜合練習02\n",
        "\n",
        "請將上面的程式碼打包成一個函式，輸入n，畫出n階的金字塔"
      ],
      "metadata": {
        "id": "vNvQbFJe8SM0"
      }
    },
    {
      "cell_type": "code",
      "source": [
        "def pyramid(n):\n",
        "  for i in range(n):\n",
        "    print(\" \"*((n-1)-i)+(2*i+1)*'*')"
      ],
      "metadata": {
        "id": "s3cU6THI8k-b"
      },
      "execution_count": 15,
      "outputs": []
    },
    {
      "cell_type": "code",
      "source": [
        "pyramid(6)"
      ],
      "metadata": {
        "colab": {
          "base_uri": "https://localhost:8080/"
        },
        "id": "5U2o1Nj18ryX",
        "outputId": "912ac453-aa95-4fff-b233-7b7cef19b7f9"
      },
      "execution_count": 16,
      "outputs": [
        {
          "output_type": "stream",
          "name": "stdout",
          "text": [
            "     *\n",
            "    ***\n",
            "   *****\n",
            "  *******\n",
            " *********\n",
            "***********\n"
          ]
        }
      ]
    },
    {
      "cell_type": "markdown",
      "source": [
        "## zerojuage.tw使用簡介\n",
        "\n",
        "* 如何讀取資料? ==>input()\n",
        "* 如何印出結果? ==>print()"
      ],
      "metadata": {
        "id": "G_ZKzxiN90Uc"
      }
    },
    {
      "cell_type": "code",
      "source": [
        "x = input('請輸入一個整數:')"
      ],
      "metadata": {
        "colab": {
          "base_uri": "https://localhost:8080/"
        },
        "id": "W8x_eahh95GR",
        "outputId": "27b9714b-f38c-44bf-aa5e-e554df2371e1"
      },
      "execution_count": 17,
      "outputs": [
        {
          "name": "stdout",
          "output_type": "stream",
          "text": [
            "請輸入一個整數:10\n"
          ]
        }
      ]
    },
    {
      "cell_type": "code",
      "source": [
        "print(1, 2, 3, 4, 5)"
      ],
      "metadata": {
        "colab": {
          "base_uri": "https://localhost:8080/"
        },
        "id": "Oa8Gaa8r_Dnd",
        "outputId": "f5da7dfd-eb90-4f6d-ca15-c709f78ce5b2"
      },
      "execution_count": 18,
      "outputs": [
        {
          "output_type": "stream",
          "name": "stdout",
          "text": [
            "1 2 3 4 5\n"
          ]
        }
      ]
    },
    {
      "cell_type": "code",
      "source": [
        "print(1, 2, 3, 4, 5, sep = '~')"
      ],
      "metadata": {
        "colab": {
          "base_uri": "https://localhost:8080/"
        },
        "id": "e2BspwJE_E0J",
        "outputId": "720adf89-04c8-423e-8600-1b840348e73a"
      },
      "execution_count": 19,
      "outputs": [
        {
          "output_type": "stream",
          "name": "stdout",
          "text": [
            "1~2~3~4~5\n"
          ]
        }
      ]
    },
    {
      "cell_type": "code",
      "source": [
        "print(1, 2, 3, end = '666')\n",
        "print(4, 5, 6)"
      ],
      "metadata": {
        "colab": {
          "base_uri": "https://localhost:8080/"
        },
        "id": "ote7Q6XtAATc",
        "outputId": "a7839705-cabc-4476-ec80-6f748bb9c4da"
      },
      "execution_count": 20,
      "outputs": [
        {
          "output_type": "stream",
          "name": "stdout",
          "text": [
            "1 2 36664 5 6\n"
          ]
        }
      ]
    },
    {
      "cell_type": "markdown",
      "source": [
        "## 字串的格式化\n",
        "\n",
        "* python2\n",
        "* python3\n",
        "* f-string"
      ],
      "metadata": {
        "id": "olIOdZ3HANAz"
      }
    },
    {
      "cell_type": "code",
      "source": [
        "# python2\n",
        "m = 1\n",
        "n = 3.14159\n",
        "print('m = %d, n = %f' % (m,n))"
      ],
      "metadata": {
        "colab": {
          "base_uri": "https://localhost:8080/"
        },
        "id": "RUCRGSsgAW_z",
        "outputId": "e1a037a0-c62c-4399-8434-8dd646ab9561"
      },
      "execution_count": 21,
      "outputs": [
        {
          "output_type": "stream",
          "name": "stdout",
          "text": [
            "m = 1, n = 3.141590\n"
          ]
        }
      ]
    },
    {
      "cell_type": "code",
      "source": [
        "# python3\n",
        "print('m = {}, n = {}' .format (m,n))"
      ],
      "metadata": {
        "colab": {
          "base_uri": "https://localhost:8080/"
        },
        "id": "vZJWWsXpAlGs",
        "outputId": "bfa2b272-9abf-4591-c0aa-f9313c53558e"
      },
      "execution_count": 22,
      "outputs": [
        {
          "output_type": "stream",
          "name": "stdout",
          "text": [
            "m = 1, n = 3.14159\n"
          ]
        }
      ]
    },
    {
      "cell_type": "code",
      "source": [
        "#f-string\n",
        "print(f'm = {m}, n = {n}')"
      ],
      "metadata": {
        "colab": {
          "base_uri": "https://localhost:8080/"
        },
        "id": "yDr90UyaA7c8",
        "outputId": "225179d7-77ec-4902-d658-04bb15279faa"
      },
      "execution_count": 23,
      "outputs": [
        {
          "output_type": "stream",
          "name": "stdout",
          "text": [
            "m = 1, n = 3.14159\n"
          ]
        }
      ]
    },
    {
      "cell_type": "markdown",
      "source": [
        "## python的基礎語法\n",
        "\n",
        "* 條件式 ==> if\n",
        "* 迴圈 ==> loops\n",
        "* 函示 ==> functions\n",
        "* 例外處理 ==> exception handling"
      ],
      "metadata": {
        "id": "MWJC6SYDD6Jd"
      }
    },
    {
      "cell_type": "code",
      "source": [
        "m = 3\n",
        "n = 2\n"
      ],
      "metadata": {
        "id": "UCp3r7JTESAm"
      },
      "execution_count": 24,
      "outputs": []
    },
    {
      "cell_type": "code",
      "source": [
        "if m > n:\n",
        "  print('m > n')\n",
        "elif m < n:\n",
        "  print('m < n')\n",
        "else :\n",
        "  print('m = n')"
      ],
      "metadata": {
        "colab": {
          "base_uri": "https://localhost:8080/"
        },
        "id": "-mpfwzFvEZnh",
        "outputId": "cace5b13-b2a7-4401-b59c-481ff7e4caf5"
      },
      "execution_count": 27,
      "outputs": [
        {
          "output_type": "stream",
          "name": "stdout",
          "text": [
            "m > n\n"
          ]
        }
      ]
    },
    {
      "cell_type": "markdown",
      "source": [
        "## 迴圈\n",
        "\n",
        "* for\n",
        "* while"
      ],
      "metadata": {
        "id": "yMglezIbFmv0"
      }
    },
    {
      "cell_type": "markdown",
      "source": [
        "### for"
      ],
      "metadata": {
        "id": "9yx3zhL5Ji-c"
      }
    },
    {
      "cell_type": "code",
      "source": [
        "for i in range(3):\n",
        "  print(i)"
      ],
      "metadata": {
        "colab": {
          "base_uri": "https://localhost:8080/"
        },
        "id": "i9Y9vhYIFtnE",
        "outputId": "afc425b4-f117-4bb3-919f-8fb99a129b5f"
      },
      "execution_count": 28,
      "outputs": [
        {
          "output_type": "stream",
          "name": "stdout",
          "text": [
            "0\n",
            "1\n",
            "2\n"
          ]
        }
      ]
    },
    {
      "cell_type": "code",
      "source": [
        "x = ['a', 'b', 'c']\n"
      ],
      "metadata": {
        "id": "ccoNDOlaG1_E"
      },
      "execution_count": 29,
      "outputs": []
    },
    {
      "cell_type": "code",
      "source": [
        "for i in x:\n",
        "  print(i)"
      ],
      "metadata": {
        "colab": {
          "base_uri": "https://localhost:8080/"
        },
        "id": "6v7Tpjb-G7VE",
        "outputId": "61e35442-5041-4b9f-aada-bd80529df60a"
      },
      "execution_count": 30,
      "outputs": [
        {
          "output_type": "stream",
          "name": "stdout",
          "text": [
            "a\n",
            "b\n",
            "c\n"
          ]
        }
      ]
    },
    {
      "cell_type": "code",
      "source": [
        "d = {}\n",
        "d['a'] = 1\n",
        "d['b'] = 2\n",
        "d['c'] = 3"
      ],
      "metadata": {
        "id": "8_8Pq0GoG9o1"
      },
      "execution_count": 32,
      "outputs": []
    },
    {
      "cell_type": "code",
      "source": [
        "d"
      ],
      "metadata": {
        "colab": {
          "base_uri": "https://localhost:8080/"
        },
        "id": "A30FUFMwHGzx",
        "outputId": "025339dc-324c-4b1f-d4ee-ee3b82e3b73e"
      },
      "execution_count": 33,
      "outputs": [
        {
          "output_type": "execute_result",
          "data": {
            "text/plain": [
              "{'a': 1, 'b': 2, 'c': 3}"
            ]
          },
          "metadata": {},
          "execution_count": 33
        }
      ]
    },
    {
      "cell_type": "code",
      "source": [
        "for i in d:\n",
        "  print(i)"
      ],
      "metadata": {
        "colab": {
          "base_uri": "https://localhost:8080/"
        },
        "id": "GNvAzzZAHPnU",
        "outputId": "ee4ddbfc-6f49-40d8-ccb8-12cda6437cba"
      },
      "execution_count": 34,
      "outputs": [
        {
          "output_type": "stream",
          "name": "stdout",
          "text": [
            "a\n",
            "b\n",
            "c\n"
          ]
        }
      ]
    },
    {
      "cell_type": "code",
      "source": [
        "for i in d:\n",
        "  print(d[i])"
      ],
      "metadata": {
        "colab": {
          "base_uri": "https://localhost:8080/"
        },
        "id": "4-vRco-wHVRM",
        "outputId": "7dd28bdd-2b36-4231-ebf6-50969d2e9260"
      },
      "execution_count": 36,
      "outputs": [
        {
          "output_type": "stream",
          "name": "stdout",
          "text": [
            "1\n",
            "2\n",
            "3\n"
          ]
        }
      ]
    },
    {
      "cell_type": "code",
      "source": [
        "'a' in d"
      ],
      "metadata": {
        "colab": {
          "base_uri": "https://localhost:8080/"
        },
        "id": "7fS4b7EGIZas",
        "outputId": "71c273bf-3eb3-4d0c-cbf5-890b2178032c"
      },
      "execution_count": 37,
      "outputs": [
        {
          "output_type": "execute_result",
          "data": {
            "text/plain": [
              "True"
            ]
          },
          "metadata": {},
          "execution_count": 37
        }
      ]
    },
    {
      "cell_type": "markdown",
      "source": [
        "### while"
      ],
      "metadata": {
        "id": "fVwLMuFJJlr8"
      }
    },
    {
      "cell_type": "code",
      "source": [
        "i = 0\n",
        "# while true\n",
        "while i < 5:\n",
        "  print(i)\n",
        "  i += 1"
      ],
      "metadata": {
        "colab": {
          "base_uri": "https://localhost:8080/"
        },
        "id": "0HwENTYgJooc",
        "outputId": "27264ed6-a777-4f87-dba0-b7d05df7cf3e"
      },
      "execution_count": 40,
      "outputs": [
        {
          "output_type": "stream",
          "name": "stdout",
          "text": [
            "0\n",
            "1\n",
            "2\n",
            "3\n",
            "4\n"
          ]
        }
      ]
    },
    {
      "cell_type": "code",
      "source": [
        "i = 0\n",
        "while i < 5:\n",
        "  if i == 2 :\n",
        "    i += 1\n",
        "    continue\n",
        "  print(i)\n",
        "  i += 1"
      ],
      "metadata": {
        "colab": {
          "base_uri": "https://localhost:8080/"
        },
        "id": "dRhaHmwUJwFz",
        "outputId": "bb9d1f62-9880-4674-b9f9-4b3e67023124"
      },
      "execution_count": 46,
      "outputs": [
        {
          "output_type": "stream",
          "name": "stdout",
          "text": [
            "0\n",
            "1\n",
            "3\n",
            "4\n"
          ]
        }
      ]
    },
    {
      "cell_type": "code",
      "source": [
        "for i in range(5):\n",
        "  if i == 2:\n",
        "    continue\n",
        "  print(i)"
      ],
      "metadata": {
        "colab": {
          "base_uri": "https://localhost:8080/"
        },
        "id": "NE966UEnLO4k",
        "outputId": "11b6cd10-1ee7-4d58-df89-5647a0a41e29"
      },
      "execution_count": 47,
      "outputs": [
        {
          "output_type": "stream",
          "name": "stdout",
          "text": [
            "0\n",
            "1\n",
            "3\n",
            "4\n"
          ]
        }
      ]
    },
    {
      "cell_type": "code",
      "source": [
        "def square01(x):\n",
        "  print(x**2)\n",
        "\n"
      ],
      "metadata": {
        "id": "8pdu_iLhLU7v"
      },
      "execution_count": 66,
      "outputs": []
    },
    {
      "cell_type": "code",
      "source": [
        "def square02(x):\n",
        "  return x**2"
      ],
      "metadata": {
        "id": "ogPl3Z34Lvb8"
      },
      "execution_count": 67,
      "outputs": []
    },
    {
      "cell_type": "code",
      "source": [
        "square01(3)"
      ],
      "metadata": {
        "colab": {
          "base_uri": "https://localhost:8080/"
        },
        "id": "yKkPRvu2L2o9",
        "outputId": "be3e39cf-9461-4d4d-f4f5-7c50f212be1b"
      },
      "execution_count": 68,
      "outputs": [
        {
          "output_type": "stream",
          "name": "stdout",
          "text": [
            "9\n"
          ]
        }
      ]
    },
    {
      "cell_type": "code",
      "source": [
        "square02(3)"
      ],
      "metadata": {
        "colab": {
          "base_uri": "https://localhost:8080/"
        },
        "id": "BsJePv4BMaVk",
        "outputId": "caed5cf1-a3a2-4fee-ce84-7f6df98fcf5c"
      },
      "execution_count": 71,
      "outputs": [
        {
          "output_type": "execute_result",
          "data": {
            "text/plain": [
              "9"
            ]
          },
          "metadata": {},
          "execution_count": 71
        }
      ]
    },
    {
      "cell_type": "code",
      "source": [
        "x1 = square01(3)"
      ],
      "metadata": {
        "colab": {
          "base_uri": "https://localhost:8080/"
        },
        "id": "IRwTQLi-N0WV",
        "outputId": "cb2cbfbc-7602-4900-f261-b85e474cc461"
      },
      "execution_count": 72,
      "outputs": [
        {
          "output_type": "stream",
          "name": "stdout",
          "text": [
            "9\n"
          ]
        }
      ]
    },
    {
      "cell_type": "code",
      "source": [
        "x1"
      ],
      "metadata": {
        "id": "YxIhwxFaN6Nk"
      },
      "execution_count": 73,
      "outputs": []
    },
    {
      "cell_type": "code",
      "source": [
        "x2 = square02(3)"
      ],
      "metadata": {
        "id": "5k6SFeONN7gE"
      },
      "execution_count": 74,
      "outputs": []
    },
    {
      "cell_type": "code",
      "source": [
        "x2"
      ],
      "metadata": {
        "colab": {
          "base_uri": "https://localhost:8080/"
        },
        "id": "uPr-FgNzN9Md",
        "outputId": "fa07be93-92f0-4113-e1df-a13a48bd2106"
      },
      "execution_count": 75,
      "outputs": [
        {
          "output_type": "execute_result",
          "data": {
            "text/plain": [
              "9"
            ]
          },
          "metadata": {},
          "execution_count": 75
        }
      ]
    },
    {
      "cell_type": "markdown",
      "source": [
        "## 例外處理"
      ],
      "metadata": {
        "id": "1fj3qsFMMx5M"
      }
    },
    {
      "cell_type": "code",
      "source": [
        "def add (a, b):\n",
        "  print(f\"{a} + {b} = {a+b}\")\n",
        "\n",
        "def sub (a, b):\n",
        "  print(f\"{a} - {b} = {a-b}\")\n",
        "\n",
        "def mul (a, b):\n",
        "  print(f\"{a} * {b} = {a*b}\")\n",
        "\n",
        "def div (a, b):\n",
        "  print(f\"{a} / {b} = {a/b}\")"
      ],
      "metadata": {
        "id": "x7lQKfOrM0Fn"
      },
      "execution_count": 64,
      "outputs": []
    },
    {
      "cell_type": "code",
      "source": [
        "fns = [add, sub, div, mul]"
      ],
      "metadata": {
        "id": "tw6egO1-NZ3t"
      },
      "execution_count": 76,
      "outputs": []
    },
    {
      "cell_type": "code",
      "source": [
        "for i in fns:\n",
        "  i(4, 2)"
      ],
      "metadata": {
        "colab": {
          "base_uri": "https://localhost:8080/"
        },
        "id": "8B4Vbyx0Ndy_",
        "outputId": "2e0c2380-51c0-4ad5-956f-fb558271dc79"
      },
      "execution_count": 77,
      "outputs": [
        {
          "output_type": "stream",
          "name": "stdout",
          "text": [
            "4 + 2 = 6\n",
            "4 - 2 = 2\n",
            "4 / 2 = 2.0\n",
            "4 * 2 = 8\n"
          ]
        }
      ]
    },
    {
      "cell_type": "code",
      "source": [
        "for i in fns:\n",
        "  try:\n",
        "    i(4, 0)\n",
        "  except Exception as e:\n",
        "    print('發生錯誤:' + str(e))\n"
      ],
      "metadata": {
        "colab": {
          "base_uri": "https://localhost:8080/"
        },
        "id": "A2nbNop6N_B8",
        "outputId": "a4c35e2d-26ec-40ba-fdfa-0d6bce200839"
      },
      "execution_count": 83,
      "outputs": [
        {
          "output_type": "stream",
          "name": "stdout",
          "text": [
            "4 + 0 = 4\n",
            "4 - 0 = 4\n",
            "發生錯誤:division by zero\n",
            "4 * 0 = 0\n"
          ]
        }
      ]
    },
    {
      "cell_type": "markdown",
      "source": [
        "### 總和練習03\n",
        "\n",
        "使用例外處理，修正萌典api錯誤"
      ],
      "metadata": {
        "id": "QEStwXAZRuVM"
      }
    },
    {
      "cell_type": "code",
      "source": [
        "import requests\n",
        "def lookup(word):\n",
        "  url = \"https://www.moedict.tw/uni/\"\n",
        "  data = requests.get(url + word).json()\n",
        "  try :\n",
        "    return data['heteronyms'][0]['definitions'][0]['def']\n",
        "  except Exception as e:\n",
        "    return \"probably can't find\""
      ],
      "metadata": {
        "id": "LOsJqsA-Rhl9"
      },
      "execution_count": 90,
      "outputs": []
    },
    {
      "cell_type": "code",
      "source": [
        "lookup('apple')"
      ],
      "metadata": {
        "colab": {
          "base_uri": "https://localhost:8080/",
          "height": 35
        },
        "id": "tSC-kj2MSaks",
        "outputId": "b2557720-d11c-47df-fa9a-cd362c3cd68c"
      },
      "execution_count": 91,
      "outputs": [
        {
          "output_type": "execute_result",
          "data": {
            "text/plain": [
              "\"probably can't find\""
            ],
            "application/vnd.google.colaboratory.intrinsic+json": {
              "type": "string"
            }
          },
          "metadata": {},
          "execution_count": 91
        }
      ]
    },
    {
      "cell_type": "markdown",
      "source": [
        "## 網路爬蟲簡介\n",
        "\n",
        "* requests ==> 抓資料\n",
        "* beautifulsoup ==> 剖析資料"
      ],
      "metadata": {
        "id": "GLQfOD_STNxc"
      }
    },
    {
      "cell_type": "code",
      "source": [],
      "metadata": {
        "id": "JkgvfFDDTQh1"
      },
      "execution_count": null,
      "outputs": []
    }
  ]
}
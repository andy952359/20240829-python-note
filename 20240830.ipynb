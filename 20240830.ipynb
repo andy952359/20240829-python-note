{
  "nbformat": 4,
  "nbformat_minor": 0,
  "metadata": {
    "colab": {
      "provenance": [],
      "authorship_tag": "ABX9TyPaVzheBURXqPAJlV5C/oDj",
      "include_colab_link": true
    },
    "kernelspec": {
      "name": "python3",
      "display_name": "Python 3"
    },
    "language_info": {
      "name": "python"
    }
  },
  "cells": [
    {
      "cell_type": "markdown",
      "metadata": {
        "id": "view-in-github",
        "colab_type": "text"
      },
      "source": [
        "<a href=\"https://colab.research.google.com/github/andy952359/20240829-python-note/blob/main/20240830.ipynb\" target=\"_parent\"><img src=\"https://colab.research.google.com/assets/colab-badge.svg\" alt=\"Open In Colab\"/></a>"
      ]
    },
    {
      "cell_type": "markdown",
      "source": [
        "# 20240830"
      ],
      "metadata": {
        "id": "lVUN9Wl84Dmc"
      }
    },
    {
      "cell_type": "markdown",
      "source": [
        "## 複習基本資料型態及容器型別\n",
        "\n",
        "* int, float, bool, str\n",
        "* list, tuple, dict, set"
      ],
      "metadata": {
        "id": "dA9M4mg84Jws"
      }
    },
    {
      "cell_type": "markdown",
      "source": [
        "### 字串的加法及乘法"
      ],
      "metadata": {
        "id": "cgDzd3E_4-gj"
      }
    },
    {
      "cell_type": "code",
      "source": [
        "'abc' + '123'"
      ],
      "metadata": {
        "id": "Wm288cT25Egs",
        "colab": {
          "base_uri": "https://localhost:8080/",
          "height": 35
        },
        "outputId": "bbf24d47-476b-4245-a9ad-7cae96e68c89"
      },
      "execution_count": 1,
      "outputs": [
        {
          "output_type": "execute_result",
          "data": {
            "text/plain": [
              "'abc123'"
            ],
            "application/vnd.google.colaboratory.intrinsic+json": {
              "type": "string"
            }
          },
          "metadata": {},
          "execution_count": 1
        }
      ]
    },
    {
      "cell_type": "code",
      "source": [
        "'abc' * 3"
      ],
      "metadata": {
        "id": "Mz1LIDmr4DYl",
        "colab": {
          "base_uri": "https://localhost:8080/",
          "height": 35
        },
        "outputId": "572be7f0-91e4-495f-eec0-25f9ae94b3b6"
      },
      "execution_count": 2,
      "outputs": [
        {
          "output_type": "execute_result",
          "data": {
            "text/plain": [
              "'abcabcabc'"
            ],
            "application/vnd.google.colaboratory.intrinsic+json": {
              "type": "string"
            }
          },
          "metadata": {},
          "execution_count": 2
        }
      ]
    },
    {
      "cell_type": "markdown",
      "source": [
        "### 總和練習01"
      ],
      "metadata": {
        "id": "pwEPwcGB6nMk"
      }
    },
    {
      "cell_type": "code",
      "execution_count": 4,
      "metadata": {
        "id": "cnrL6qW52g-I",
        "colab": {
          "base_uri": "https://localhost:8080/"
        },
        "outputId": "35253b6e-2458-4c98-bc89-9ea2e5b9e635"
      },
      "outputs": [
        {
          "output_type": "stream",
          "name": "stdout",
          "text": [
            "1\n",
            "3\n",
            "5\n",
            "7\n",
            "9\n"
          ]
        }
      ],
      "source": [
        "for i in range(5):\n",
        "  print(2*i+1)"
      ]
    },
    {
      "cell_type": "code",
      "source": [
        "for i in range(5):\n",
        "  print((2*i+1)*'*')"
      ],
      "metadata": {
        "colab": {
          "base_uri": "https://localhost:8080/"
        },
        "id": "pRMSzlF664wM",
        "outputId": "f2506403-ba58-4c1b-eb50-7711b0054f51"
      },
      "execution_count": 5,
      "outputs": [
        {
          "output_type": "stream",
          "name": "stdout",
          "text": [
            "*\n",
            "***\n",
            "*****\n",
            "*******\n",
            "*********\n"
          ]
        }
      ]
    },
    {
      "cell_type": "code",
      "source": [
        "for i in range(5):\n",
        "  print(\" \"*(4-i)+(2*i+1)*'*')"
      ],
      "metadata": {
        "colab": {
          "base_uri": "https://localhost:8080/"
        },
        "id": "E_HJw2mM7CMs",
        "outputId": "ac83a9c4-a7f1-426c-eb98-2a1e7cea9a9c"
      },
      "execution_count": 12,
      "outputs": [
        {
          "output_type": "stream",
          "name": "stdout",
          "text": [
            "    *\n",
            "   ***\n",
            "  *****\n",
            " *******\n",
            "*********\n"
          ]
        }
      ]
    },
    {
      "cell_type": "markdown",
      "source": [
        "### 綜合練習02\n",
        "\n",
        "請將上面的程式碼打包成一個函式，輸入n，畫出n階的金字塔"
      ],
      "metadata": {
        "id": "vNvQbFJe8SM0"
      }
    },
    {
      "cell_type": "code",
      "source": [
        "def pyramid(n):\n",
        "  for i in range(n):\n",
        "    print(\" \"*((n-1)-i)+(2*i+1)*'*')"
      ],
      "metadata": {
        "id": "s3cU6THI8k-b"
      },
      "execution_count": 15,
      "outputs": []
    },
    {
      "cell_type": "code",
      "source": [
        "pyramid(6)"
      ],
      "metadata": {
        "colab": {
          "base_uri": "https://localhost:8080/"
        },
        "id": "5U2o1Nj18ryX",
        "outputId": "912ac453-aa95-4fff-b233-7b7cef19b7f9"
      },
      "execution_count": 16,
      "outputs": [
        {
          "output_type": "stream",
          "name": "stdout",
          "text": [
            "     *\n",
            "    ***\n",
            "   *****\n",
            "  *******\n",
            " *********\n",
            "***********\n"
          ]
        }
      ]
    },
    {
      "cell_type": "markdown",
      "source": [
        "## zerojuage.tw使用簡介\n",
        "\n",
        "* 如何讀取資料? ==>input()\n",
        "* 如何印出結果? ==>print()"
      ],
      "metadata": {
        "id": "G_ZKzxiN90Uc"
      }
    },
    {
      "cell_type": "code",
      "source": [
        "x = input('請輸入一個整數:')"
      ],
      "metadata": {
        "colab": {
          "base_uri": "https://localhost:8080/"
        },
        "id": "W8x_eahh95GR",
        "outputId": "27b9714b-f38c-44bf-aa5e-e554df2371e1"
      },
      "execution_count": 17,
      "outputs": [
        {
          "name": "stdout",
          "output_type": "stream",
          "text": [
            "請輸入一個整數:10\n"
          ]
        }
      ]
    },
    {
      "cell_type": "code",
      "source": [
        "print(1, 2, 3, 4, 5)"
      ],
      "metadata": {
        "colab": {
          "base_uri": "https://localhost:8080/"
        },
        "id": "Oa8Gaa8r_Dnd",
        "outputId": "f5da7dfd-eb90-4f6d-ca15-c709f78ce5b2"
      },
      "execution_count": 18,
      "outputs": [
        {
          "output_type": "stream",
          "name": "stdout",
          "text": [
            "1 2 3 4 5\n"
          ]
        }
      ]
    },
    {
      "cell_type": "code",
      "source": [
        "print(1, 2, 3, 4, 5, sep = '~')"
      ],
      "metadata": {
        "colab": {
          "base_uri": "https://localhost:8080/"
        },
        "id": "e2BspwJE_E0J",
        "outputId": "720adf89-04c8-423e-8600-1b840348e73a"
      },
      "execution_count": 19,
      "outputs": [
        {
          "output_type": "stream",
          "name": "stdout",
          "text": [
            "1~2~3~4~5\n"
          ]
        }
      ]
    },
    {
      "cell_type": "code",
      "source": [
        "print(1, 2, 3, end = '666')\n",
        "print(4, 5, 6)"
      ],
      "metadata": {
        "colab": {
          "base_uri": "https://localhost:8080/"
        },
        "id": "ote7Q6XtAATc",
        "outputId": "a7839705-cabc-4476-ec80-6f748bb9c4da"
      },
      "execution_count": 20,
      "outputs": [
        {
          "output_type": "stream",
          "name": "stdout",
          "text": [
            "1 2 36664 5 6\n"
          ]
        }
      ]
    },
    {
      "cell_type": "markdown",
      "source": [
        "## 字串的格式化\n",
        "\n",
        "* python2\n",
        "* python3\n",
        "* f-string"
      ],
      "metadata": {
        "id": "olIOdZ3HANAz"
      }
    },
    {
      "cell_type": "code",
      "source": [
        "# python2\n",
        "m = 1\n",
        "n = 3.14159\n",
        "print('m = %d, n = %f' % (m,n))"
      ],
      "metadata": {
        "colab": {
          "base_uri": "https://localhost:8080/"
        },
        "id": "RUCRGSsgAW_z",
        "outputId": "e1a037a0-c62c-4399-8434-8dd646ab9561"
      },
      "execution_count": 21,
      "outputs": [
        {
          "output_type": "stream",
          "name": "stdout",
          "text": [
            "m = 1, n = 3.141590\n"
          ]
        }
      ]
    },
    {
      "cell_type": "code",
      "source": [
        "# python3\n",
        "print('m = {}, n = {}' .format (m,n))"
      ],
      "metadata": {
        "colab": {
          "base_uri": "https://localhost:8080/"
        },
        "id": "vZJWWsXpAlGs",
        "outputId": "bfa2b272-9abf-4591-c0aa-f9313c53558e"
      },
      "execution_count": 22,
      "outputs": [
        {
          "output_type": "stream",
          "name": "stdout",
          "text": [
            "m = 1, n = 3.14159\n"
          ]
        }
      ]
    },
    {
      "cell_type": "code",
      "source": [
        "#f-string\n",
        "print(f'm = {m}, n = {n}')"
      ],
      "metadata": {
        "colab": {
          "base_uri": "https://localhost:8080/"
        },
        "id": "yDr90UyaA7c8",
        "outputId": "225179d7-77ec-4902-d658-04bb15279faa"
      },
      "execution_count": 23,
      "outputs": [
        {
          "output_type": "stream",
          "name": "stdout",
          "text": [
            "m = 1, n = 3.14159\n"
          ]
        }
      ]
    }
  ]
}